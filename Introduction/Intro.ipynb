{
 "cells": [
  {
   "cell_type": "markdown",
   "metadata": {},
   "source": [
    "# Algorithms\n",
    "* Algorithm - series of instructions a computer follows step by step to solve a problem\n",
    "* deterministic - given the same input, the algorithm should always produce the same output\n",
    "* The algorithm should be correct for any arbitrary valid input\n",
    "\n",
    "## Big O\n",
    "* describes the computational complexity of an algorithm. 2 parts\n",
    "    * time complexity: amount of time to run the algorithm relative to input size (care more about then space complexity normally)\n",
    "    * as the input size grows, how much longer does the algorithm take to complete?\n",
    "    * space complexity: amount of memory allocated by the algorithm when run relative to input size\n",
    "    * as the input size grows, how much more memory does the algorithm use?\n",
    "\n",
    "## Complexity\n",
    "* function calculates the number of oeprations or amount of memory your algorithm consumer relative to input size\n",
    "* Time complexity is not meant to be an exact representation o the number of operations\n",
    "* instead, it just describes how the number of operations changes as the input changes\n",
    "* we consider complexity as the variables ten to infinity to isolate the most powerful variable\n",
    "* Normally three cases (Best-case, Average, Worst-case)\n",
    "\n",
    "## Recursion\n",
    "* implemented by using a function that calls itself\n",
    "* refer to Recursion.cpp for examples\n"
   ]
  },
  {
   "cell_type": "code",
   "execution_count": null,
   "metadata": {},
   "outputs": [],
   "source": [
    "# Example Recursion python (to complete)"
   ]
  }
 ],
 "metadata": {
  "language_info": {
   "name": "python"
  }
 },
 "nbformat": 4,
 "nbformat_minor": 2
}
