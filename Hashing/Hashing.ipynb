{
 "cells": [
  {
   "cell_type": "code",
   "execution_count": null,
   "metadata": {},
   "outputs": [],
   "source": [
    "# Import built-in libraries\n",
    "import os\n",
    "import sys\n",
    "import time\n",
    "import logging\n",
    "\n",
    "# Import data handling libraries\n",
    "import numpy as np\n",
    "import pandas as pd\n",
    "\n",
    "from IPython.display import Image\n",
    "from typing import List, Tuple"
   ]
  },
  {
   "cell_type": "markdown",
   "metadata": {},
   "source": [
    "### Intro - Data Structures\n",
    "* Format for organnising data in an efficient way. Split into two things:\n",
    "    * The interface: How we can interact with the data (What operations we can perform on it, what inputs to expect, what outputs to expect)\n",
    "    * The implementation: the code that makes the structure work. i.e. how the data is stored and how the operations are performed (e.g. allocating memory for a list, tracking the size, rearranging the elements when a function like remove is called etc.)\n",
    "* Really only need to know about the interface and less about the implementation\n",
    "\n",
    "### **Hashing**\n",
    "* Hash function: takes an input and deterministically converts it to an integer\n",
    "* inputs are called **keys**, same input will always be converted to the same integer\n",
    "\n",
    "#### Point of a hash function?\n",
    "* To summarize, a hash map is an unordered data structure that stores key-value pairs. A hash map can add and remove elements in O(1)\n",
    "* Can update values associated with a key and check if a key exists, also in O(1). \n",
    "* An ordered data structure is one where the insertion order is \"remembered\". An unordered data structure is one where the insertion order is not relevant.\n",
    "\n",
    "#### Comparison with Arrays\n",
    "* Hash Maps are easier to work with because they have lower time compelxity for various functions (adding an elements and associate with value, delete an element and check if element exists)\n",
    "* They are also easier to work with because you dont need to know the size of the hash map when you initialise it like an array\n",
    "* However biggest disadvantage is that for smaller input sizes, they can be slower due to overhead. They also can take up more space:\n",
    "    * Dynamic arrays are actually fixed-size arrays that resize themselves when they go beyond capacity\n",
    "    * Hash tables are also implemented using fixed size arrays, the problem is resizing the has table is more expensive because every key needs to be rehashed and they may use an array significantly larger than the number of elements stored\n",
    "\n",
    "#### Collisions\n",
    "* When different keys convert to the same integer, its called a collision. If not handled, can cause keys to be overriden and data to be lost\n",
    "* Common way to solve collisions is chaining (store linked lists inside the hash map's array instead of the elements themselves - stores the keys and the values - so if we try and access this integer, can  traverse the list until the keys match)\n",
    "* Collisions are handled automatically but it is good to understand the inner workings for an interview\n",
    "* How can we design our hash map to minimize collisions? The most important thing is that the size of your hash table's array and modulus is a prime number. (10,007, 1,000,003, 1,000,000,007)\n",
    "\n",
    "### Sets\n",
    "* Very similiar to a hash table, uses the same mechanism for hashing keys into integers but they don't map the keys to anything\n",
    "* Good if you only care about checking if the elemnt exists\n"
   ]
  },
  {
   "cell_type": "markdown",
   "metadata": {},
   "source": []
  }
 ],
 "metadata": {
  "kernelspec": {
   "display_name": "Python 3.12.8 (base)",
   "language": "python",
   "name": "base"
  },
  "language_info": {
   "name": "python",
   "version": "3.11.9"
  }
 },
 "nbformat": 4,
 "nbformat_minor": 2
}
