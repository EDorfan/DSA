{
 "cells": [
  {
   "cell_type": "markdown",
   "metadata": {},
   "source": [
    "## **Stacks**\n",
    "* ordered collection of elements where elements are only added and removed from teh same end\n",
    "* good example is the history of your browsers tab (also knows as LIFO - Last in, First out)\n",
    "* in python it is super easy to implement using stack = [], stack.append() and stack.pop()\n",
    "* O(1) push, pop, and random access, and O(n) search complexity\n",
    "* Stack and recursion are very similiar because recursion is done using a stack\n",
    "* Stacks are good if you recognise the LIFO pattern\n"
   ]
  },
  {
   "cell_type": "code",
   "execution_count": 3,
   "metadata": {},
   "outputs": [
    {
     "data": {
      "text/plain": [
       "1"
      ]
     },
     "execution_count": 3,
     "metadata": {},
     "output_type": "execute_result"
    }
   ],
   "source": [
    "# Declaration: we will just use a list\n",
    "stack = []\n",
    "\n",
    "# Pushing elements:\n",
    "stack.append(1)\n",
    "stack.append(2)\n",
    "stack.append(3)\n",
    "\n",
    "# Popping elements:\n",
    "stack.pop() # 3\n",
    "stack.pop() # 2\n",
    "\n",
    "# Check if empty\n",
    "not stack # False\n",
    "\n",
    "# Check element at top\n",
    "stack[-1] # 1\n",
    "\n",
    "# Get size\n",
    "len(stack) # 1"
   ]
  }
 ],
 "metadata": {
  "kernelspec": {
   "display_name": "Python 3.12.8 (base)",
   "language": "python",
   "name": "base"
  },
  "language_info": {
   "codemirror_mode": {
    "name": "ipython",
    "version": 3
   },
   "file_extension": ".py",
   "mimetype": "text/x-python",
   "name": "python",
   "nbconvert_exporter": "python",
   "pygments_lexer": "ipython3",
   "version": "3.11.9"
  }
 },
 "nbformat": 4,
 "nbformat_minor": 2
}
