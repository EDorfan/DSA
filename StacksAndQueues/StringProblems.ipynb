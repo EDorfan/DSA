{
 "cells": [
  {
   "cell_type": "markdown",
   "metadata": {},
   "source": [
    "## **String Problems**\n",
    "* String questions involving stacks are popular because it saves a history of the previous character\n",
    "\n",
    "#### **Example: Valid Parentheses**\n",
    "**Given a string s containing just the characters '(', ')', '{', '}', '[' and ']', determine if the input string is valid. The string is valid if all open brackets are closed by the same type of closing bracket in the correct order, and each closing bracket closes exactly one open bracket.**\n",
    "\n",
    "**For example, s = \"({})\" and s = \"(){}[]\" are valid, but s = \"(]\" and s = \"({)}\" are not valid.**\n",
    "\n",
    "* The \"correct\" order is determined by whatever the previous opening bracket was.\n",
    "* How can we associate the opening and closing brackets together? We can use a hash map to map each opening bracket to its closing bracket. \n",
    "* Then, when we see a closing bracket, we can use the top of the stack as a key and check if the value is equal to the current character.\\\n",
    "* complexity of O(n)\n"
   ]
  },
  {
   "cell_type": "markdown",
   "metadata": {},
   "source": [
    "#### **Example: Remove All Adjacent Duplicates in String**\n",
    "You are given a string s. Continuously remove duplicates (two of the same character beside each other) until you can't anymore. Return the final string after this.\n",
    "\n",
    "For example, given s = \"abbaca\", you can first remove the \"bb\" to get \"aaca\". Next, you can remove the \"aa\" to get \"ca\". This is the final answer."
   ]
  },
  {
   "cell_type": "markdown",
   "metadata": {},
   "source": [
    "#### **Example: Backspace String Compare**\n",
    "\n",
    "Given two strings s and t, return true if they are equal when both are typed into empty text editors. '#' means a backspace character.\n",
    "\n",
    "For example, given s = \"ab#c\" and t = \"ad#c\", return true. Because of the backspace, the strings are both equal to \"ac\".\n"
   ]
  },
  {
   "cell_type": "code",
   "execution_count": 7,
   "metadata": {},
   "outputs": [],
   "source": [
    "class Solution:\n",
    "    def isValid(self, s: str) -> bool:\n",
    "        stack = []\n",
    "        matching = {\"(\": \")\", \"[\": \"]\", \"{\": \"}\"}\n",
    "        \n",
    "        for c in s:\n",
    "            if c in matching: # if c is an opening bracket\n",
    "                stack.append(c)\n",
    "            else:\n",
    "                if not stack:\n",
    "                    return False\n",
    "                \n",
    "                previous_opening = stack.pop()\n",
    "                if matching[previous_opening] != c:\n",
    "                    return False\n",
    " \n",
    "        return not stack\n",
    "\n",
    "    def removeDuplicates(self, s: str) -> str:\n",
    "        stack = []\n",
    "        for c in s:\n",
    "            if stack and stack[-1] == c:\n",
    "                stack.pop()\n",
    "            else:\n",
    "                stack.append(c)\n",
    "        return \"\".join(stack)\n",
    "\n",
    "    def backspaceCompare(self, s: str, t: str) -> bool:\n",
    "        def stringBuilder(s: str) -> str:\n",
    "            stack = []\n",
    "            for c in s:\n",
    "                if c != '#':\n",
    "                    stack.append(c)\n",
    "                elif stack:\n",
    "                    stack.pop()\n",
    "            return \"\".join(stack)\n",
    "        \n",
    "        return stringBuilder(s) == stringBuilder(t)\n",
    "    "
   ]
  },
  {
   "cell_type": "code",
   "execution_count": null,
   "metadata": {},
   "outputs": [],
   "source": []
  },
  {
   "cell_type": "code",
   "execution_count": 8,
   "metadata": {},
   "outputs": [
    {
     "name": "stdout",
     "output_type": "stream",
     "text": [
      "False\n",
      "ca\n",
      "True\n"
     ]
    }
   ],
   "source": [
    "def main():\n",
    "    # Initialise the solution class\n",
    "    solution = Solution()\n",
    "\n",
    "    s = \"({}[]])\"\n",
    "    print(solution.isValid(s))\n",
    "\n",
    "    # Illustration of removing duplicates\n",
    "    s = \"abbaca\"\n",
    "    print(solution.removeDuplicates(s))\n",
    "\n",
    "    # Illustration of backspace compare\n",
    "    s = \"ab#c\"\n",
    "    t = \"ad#c\"\n",
    "    print(solution.backspaceCompare(s, t))\n",
    "\n",
    "if __name__ == \"__main__\":\n",
    "    main()\n"
   ]
  }
 ],
 "metadata": {
  "kernelspec": {
   "display_name": "Python 3.12.8 (base)",
   "language": "python",
   "name": "base"
  },
  "language_info": {
   "codemirror_mode": {
    "name": "ipython",
    "version": 3
   },
   "file_extension": ".py",
   "mimetype": "text/x-python",
   "name": "python",
   "nbconvert_exporter": "python",
   "pygments_lexer": "ipython3",
   "version": "3.11.9"
  }
 },
 "nbformat": 4,
 "nbformat_minor": 2
}
