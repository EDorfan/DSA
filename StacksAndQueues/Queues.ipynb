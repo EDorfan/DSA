{
 "cells": [
  {
   "cell_type": "markdown",
   "metadata": {},
   "source": [
    "## **Queues**\n",
    "* FIFO approach: elements are added and removed from opposite ends\n",
    "* Practical tech application is any software that handles jobs on a first come first serve basis\n",
    "* Adding is called enqueue and deletion is called dequeue\n",
    "* One way to implement a queue is using a doubly linked list (access pointers to the head and tail)\n",
    "* There is also a data structure called a deque, short for double-ended queue, and pronounced \"deck\". In a deque, you can add or delete elements from both ends. A normal queue designates adding to one end and deleting to another end.\n",
    "* Most common use of a queue is for Breadth First Search (BFS)"
   ]
  },
  {
   "cell_type": "code",
   "execution_count": 1,
   "metadata": {},
   "outputs": [
    {
     "data": {
      "text/plain": [
       "3"
      ]
     },
     "execution_count": 1,
     "metadata": {},
     "output_type": "execute_result"
    }
   ],
   "source": [
    "# Declaration: we will use deque from the collections module\n",
    "import collections\n",
    "queue = collections.deque()\n",
    "\n",
    "# If you want to initialize it with some initial values:\n",
    "queue = collections.deque([1, 2, 3])\n",
    "\n",
    "# Enqueueing/adding elements:\n",
    "queue.append(4)\n",
    "queue.append(5)\n",
    "\n",
    "# Dequeuing/removing elements:\n",
    "queue.popleft() # 1\n",
    "queue.popleft() # 2\n",
    "\n",
    "# Check element at front of queue (next element to be removed)\n",
    "queue[0] # 3\n",
    "\n",
    "# Get size\n",
    "len(queue) # 3"
   ]
  },
  {
   "cell_type": "markdown",
   "metadata": {},
   "source": [
    "#### **Example 1: Number of Recent Calls**\n",
    "**Implement the RecentCounter class. It should support ping(int t), which records a call at time t, and then returns an integer representing the number of calls that have happened in the range [t - 3000, t]. Calls to ping will have increasing t.**\n",
    "\n",
    "* \n"
   ]
  },
  {
   "cell_type": "code",
   "execution_count": null,
   "metadata": {},
   "outputs": [],
   "source": []
  }
 ],
 "metadata": {
  "kernelspec": {
   "display_name": "Python 3.12.8 (base)",
   "language": "python",
   "name": "base"
  },
  "language_info": {
   "codemirror_mode": {
    "name": "ipython",
    "version": 3
   },
   "file_extension": ".py",
   "mimetype": "text/x-python",
   "name": "python",
   "nbconvert_exporter": "python",
   "pygments_lexer": "ipython3",
   "version": "3.11.9"
  }
 },
 "nbformat": 4,
 "nbformat_minor": 2
}
