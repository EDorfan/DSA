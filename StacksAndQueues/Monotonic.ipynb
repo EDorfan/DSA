{
 "cells": [
  {
   "cell_type": "markdown",
   "metadata": {},
   "source": [
    "## **Monotonic**\n",
    "* Elements are always sorted in either ascending or descending order\n",
    "* Maintain this element by removing other elements that violate the property before the new element is added"
   ]
  },
  {
   "cell_type": "markdown",
   "metadata": {},
   "source": [
    "Given an integer array nums\n",
    "\n",
    "stack = []\n",
    "for num in nums:\n",
    "    while stack.length > 0 AND stack.top >= num:\n",
    "        stack.pop()\n",
    "    // Between the above and below lines, do some logic depending on the problem\n",
    "    stack.push(num)"
   ]
  },
  {
   "cell_type": "markdown",
   "metadata": {},
   "source": [
    "* Good for problems that involve finding the next element based on some criteria\n",
    "* Good for dynamic windows and maintaining the max and min element as time goes on\n",
    "\n",
    "#### _**Example 1: 739. Daily Temperatures**_\n",
    "Given an array of integers temperatures that represents the daily temperatures, return an array answer such that answer[i] is the number of days you have to wait after the ith day to get a warmer temperature. If there is no future day that is warmer, have answer[i] = 0 instead.\n",
    "\n",
    "* Because the stack is monotonically decreasing, we are guaranteed to pop elements only when we find the first warmer temperature."
   ]
  },
  {
   "cell_type": "code",
   "execution_count": null,
   "metadata": {},
   "outputs": [],
   "source": [
    "from typing import List\n",
    "\n",
    "class Solution:\n",
    "    def dailyTemperatures(self, temperatures: List[int]) -> List[int]:\n",
    "        # Initialize a stack to store the indices of the temperatures\n",
    "        stack = []\n",
    "        # Initialize the answer array with zeros\n",
    "        answer = [0]*len(temperatures)\n",
    "\n",
    "        # Iterate through the temperatures\n",
    "        for i in range(len(temperatures)):\n",
    "            # While the stack is not empty and the current temperature is greater than the temperature at the index stored at the top of the stack\n",
    "            while stack and temperatures[i] > temperatures[stack[-1]]:\n",
    "                # Pop the index from the stack\n",
    "                index = stack.pop()\n",
    "                # Calculate the number of days to wait for a warmer temperature\n",
    "                answer[index] = i - index\n",
    "            # Push the current index onto the stack\n",
    "            stack.append(i)\n",
    "        # Return the answer array\n",
    "        return answer"
   ]
  },
  {
   "cell_type": "markdown",
   "metadata": {},
   "source": [
    "#### **_Example 2: 239. Sliding Window Maximum_**\n",
    "Given an integer array nums and an integer k, there is a sliding window of size k that moves from the very left to the very right. For each window, find the maximum element in the window.\n",
    "\n",
    "For example, given nums = [1, 3, -1, -3, 5, 3, 6, 7], k = 3, return [3, 3, 5, 5, 6, 7]. The first window is [1, 3, -1, -3, 5, 3, 6, 7] and the last window is [1, 3, -1, -3, 5, 3, 6, 7]\n",
    "\n",
    "Note: this problem is significantly more difficult than any problem we have looked at so far. Don't be discouraged if you are having trouble understanding the solution.\n",
    "\n",
    "* When we see a number, we no longer care about any numbers in the window smaller than it, because they have no chance of ever being the maximum.\n",
    "* This means we should use a double-ended queue (deque) for efficient O(1) operations."
   ]
  },
  {
   "cell_type": "code",
   "execution_count": null,
   "metadata": {},
   "outputs": [],
   "source": [
    "from collections import deque\n",
    "\n",
    "class Solution:\n",
    "    def maxSlidingWindow(self, nums: List[int], k: int) -> List[int]:\n",
    "        ans = []\n",
    "        queue = deque()\n",
    "        for i in range(len(nums)):\n",
    "            # maintain monotonic decreasing.\n",
    "            # all elements in the deque smaller than the current one\n",
    "            # have no chance of being the maximum, so get rid of them\n",
    "            while queue and nums[i] > nums[queue[-1]]:\n",
    "                queue.pop()\n",
    "\n",
    "            queue.append(i)\n",
    "\n",
    "            # queue[0] is the index of the maximum element.\n",
    "            # if queue[0] + k == i, then it is outside the window\n",
    "            if queue[0] + k == i:\n",
    "                queue.popleft()\n",
    "            \n",
    "            # only add to the answer once our window has reached size k\n",
    "            if i >= k - 1:\n",
    "                ans.append(nums[queue[0]])\n",
    "\n",
    "        return ans"
   ]
  },
  {
   "cell_type": "markdown",
   "metadata": {},
   "source": [
    "## **_Example 3: 1438. Longest Continuous Subarray With Absolute Diff Less Than or Equal to Limit_**\n",
    "\n",
    "Given an array of integers nums and an integer limit, return the size of the longest subarray such that the absolute difference between any two elements of this subarray is less than or equal to limit.\n",
    "\n",
    "* Max - "
   ]
  },
  {
   "cell_type": "code",
   "execution_count": null,
   "metadata": {},
   "outputs": [],
   "source": [
    "from collections import deque\n",
    "\n",
    "class Solution:\n",
    "    def longestSubarray(self, nums: List[int], limit: int) -> int:\n",
    "        increasing = deque()\n",
    "        decreasing = deque()\n",
    "        left = ans = 0\n",
    "        \n",
    "        for right in range(len(nums)):\n",
    "            # maintain the monotonic deques\n",
    "            while increasing and increasing[-1] > nums[right]:\n",
    "                increasing.pop()\n",
    "            while decreasing and decreasing[-1] < nums[right]:\n",
    "                decreasing.pop()\n",
    "                \n",
    "            increasing.append(nums[right])\n",
    "            decreasing.append(nums[right])\n",
    "            \n",
    "            # maintain window property\n",
    "            while decreasing[0] - increasing[0] > limit:\n",
    "                if nums[left] == decreasing[0]:\n",
    "                    decreasing.popleft()\n",
    "                if nums[left] == increasing[0]:\n",
    "                    increasing.popleft()\n",
    "                left += 1\n",
    "            \n",
    "            ans = max(ans, right - left + 1)\n",
    "\n",
    "        return ans"
   ]
  }
 ],
 "metadata": {
  "kernelspec": {
   "display_name": "Python 3.12.8 (base)",
   "language": "python",
   "name": "base"
  },
  "language_info": {
   "name": "python",
   "version": "3.11.9"
  }
 },
 "nbformat": 4,
 "nbformat_minor": 2
}
