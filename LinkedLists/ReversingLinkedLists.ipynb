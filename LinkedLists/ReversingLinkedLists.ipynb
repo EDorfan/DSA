{
 "cells": [
  {
   "cell_type": "markdown",
   "metadata": {},
   "source": [
    "## **Reversing a Linked List**\n",
    "* a technique that can be a step to solving different problems\n",
    "* For python implementation see below\n",
    "* The complexity is O(n)"
   ]
  },
  {
   "cell_type": "code",
   "execution_count": 2,
   "metadata": {},
   "outputs": [],
   "source": [
    "class ListNode:\n",
    "    def __init__(self, val=0, next=None):\n",
    "        self.val = val\n",
    "        self.next = next\n",
    "\n",
    "\n",
    "def reverse_list(head):\n",
    "    prev = None\n",
    "    curr = head\n",
    "    while curr:\n",
    "        next_node = curr.next # first, make sure we don't lose the next node\n",
    "        curr.next = prev      # reverse the direction of the pointer\n",
    "        prev = curr           # set the current node to prev for the next node\n",
    "        curr = next_node      # move on\n",
    "        \n",
    "    return prev"
   ]
  },
  {
   "cell_type": "markdown",
   "metadata": {
    "vscode": {
     "languageId": "bat"
    }
   },
   "source": [
    "#### Exercise 1 - 24. Swap Nodes in Pairs\n",
    "* Given the head of a linked list, swap every pair of nodes. For example, given a linked list 1 -> 2 -> 3 -> 4 -> 5 -> 6, return a linked list 2 -> 1 -> 4 -> 3 -> 6 -> 5.\n",
    "\n",
    "_**Explanation**_\n",
    "\n",
    "To summarize the steps:\n",
    "1. Performs an edge swap from A -> B -> C -> ... to A <-> B C -> ....\n",
    "2. Make sure we can still access the rest of the list beyond the current pair (saves C).\n",
    "3. Now that A <-> B is isolated from the rest of the list, save a pointer to A to connect it with the rest of the list later. Move to the next pair.\n",
    "4. Connect the previous pair to the rest of the list. In this case connecting A -> D.\n",
    "5. Use a dummy pointer to keep a reference to what we want to return.\n",
    "6. Handle the case when there's an odd number of nodes.\n"
   ]
  },
  {
   "cell_type": "code",
   "execution_count": 4,
   "metadata": {},
   "outputs": [],
   "source": [
    "class Solution:\n",
    "    def swapPairs(self, head: ListNode) -> ListNode:\n",
    "        # Check edge case: linked list has 0 or 1 nodes, just return\n",
    "        if not head or not head.next:\n",
    "            return head\n",
    "        \n",
    "        # Step 5 - Initialize a dummy node to point to the second node in the list\n",
    "        dummy = head.next               \n",
    "        # step 3 - Initialize a variable to keep track of the previous node in the pair\n",
    "        prev = None                     \n",
    "        # Iterate through the list as long as there are at least two nodes left to swap\n",
    "        while head and head.next:\n",
    "            # step 4 - If this is not the first pair, connect the previous pair to the current pair\n",
    "            if prev:\n",
    "                prev.next = head.next   \n",
    "            # step 3 - Update the previous node to be the current node\n",
    "            prev = head                 \n",
    "\n",
    "            # step 2 - Save the node after the current pair to connect later\n",
    "            next_node = head.next.next  \n",
    "            # step 1 - Reverse the direction of the pointer between the current pair\n",
    "            head.next.next = head       \n",
    "\n",
    "            # step 6 - Connect the current node to the rest of the list\n",
    "            head.next = next_node       \n",
    "            # step 3 - Move to the next pair of nodes\n",
    "            head = next_node            \n",
    "\n",
    "        return dummy"
   ]
  },
  {
   "cell_type": "markdown",
   "metadata": {},
   "source": [
    "#### Reversal as only part of an algorithm\n",
    "* "
   ]
  },
  {
   "cell_type": "code",
   "execution_count": 5,
   "metadata": {},
   "outputs": [
    {
     "name": "stdout",
     "output_type": "stream",
     "text": [
      "The original linked list is:  1->2->3->4->5\n",
      "The reversed linked list is:  5->4->3->2->1\n",
      "The original linked list for swapPairs is:  1->2->3->4->5->6\n",
      "The linked list after swapPairs is:  2->1->4->3->6->5\n"
     ]
    }
   ],
   "source": [
    "def main():\n",
    "    head = ListNode(1)\n",
    "    head.next = ListNode(2)\n",
    "    head.next.next = ListNode(3)\n",
    "    head.next.next.next = ListNode(4)\n",
    "    head.next.next.next.next = ListNode(5)\n",
    "    \n",
    "    # Helper function to print list\n",
    "    def print_list(node):\n",
    "        values = []\n",
    "        while node:\n",
    "            values.append(str(node.val))\n",
    "            node = node.next\n",
    "        return '->'.join(values)\n",
    "    \n",
    "    print(\"The original linked list is: \", print_list(head))\n",
    "    head = reverse_list(head)\n",
    "    print(\"The reversed linked list is: \", print_list(head))\n",
    "\n",
    "    # Testing Swap Pairs\n",
    "    head1 = ListNode(1)\n",
    "    head1.next = ListNode(2)\n",
    "    head1.next.next = ListNode(3)\n",
    "    head1.next.next.next = ListNode(4)\n",
    "    head1.next.next.next.next = ListNode(5)\n",
    "    head1.next.next.next.next.next = ListNode(6)\n",
    "    \n",
    "    print(\"The original linked list for swapPairs is: \", print_list(head1))\n",
    "    head1 = Solution().swapPairs(head1)\n",
    "    print(\"The linked list after swapPairs is: \", print_list(head1))\n",
    "    \n",
    "if __name__ == \"__main__\":\n",
    "    main()"
   ]
  }
 ],
 "metadata": {
  "kernelspec": {
   "display_name": "Python 3.12.8 (base)",
   "language": "python",
   "name": "base"
  },
  "language_info": {
   "codemirror_mode": {
    "name": "ipython",
    "version": 3
   },
   "file_extension": ".py",
   "mimetype": "text/x-python",
   "name": "python",
   "nbconvert_exporter": "python",
   "pygments_lexer": "ipython3",
   "version": "3.11.9"
  }
 },
 "nbformat": 4,
 "nbformat_minor": 2
}
