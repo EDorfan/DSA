{
 "cells": [
  {
   "cell_type": "markdown",
   "metadata": {},
   "source": [
    "## Linked Lists\n",
    "* Node: fundamental building block of data structures like linked lists and trees, containing data and potentially links to other nodes\n",
    "* Linked list is similiar to an array, storing data in an ordered manner using node objects\n",
    "* Each node has a next pointer that points to the node representing the next element\n",
    "![Visualisation of a Linked List](LinkedList.png)\n",
    "\n",
    "#### Linked List Implementation\n",
    "* Python Example Below\n",
    "* [C++ Example](LinkedListImplementation.cpp)"
   ]
  },
  {
   "cell_type": "code",
   "execution_count": null,
   "metadata": {},
   "outputs": [],
   "source": []
  }
 ],
 "metadata": {
  "kernelspec": {
   "display_name": "Python 3.12.8 (base)",
   "language": "python",
   "name": "base"
  },
  "language_info": {
   "name": "python",
   "version": "3.11.9"
  }
 },
 "nbformat": 4,
 "nbformat_minor": 2
}
