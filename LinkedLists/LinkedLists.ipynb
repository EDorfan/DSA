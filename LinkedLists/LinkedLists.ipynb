{
 "cells": [
  {
   "cell_type": "markdown",
   "metadata": {},
   "source": [
    "## Linked Lists\n",
    "* Node: fundamental building block of data structures like linked lists and trees, containing data and potentially links to other nodes\n",
    "* Linked list is similiar to an array, storing data in an ordered manner using node objects\n",
    "* Each node has a next pointer that points to the node representing the next element\n",
    "![Visualisation of a Linked List](LinkedList.png)\n",
    "\n",
    "#### Linked List Implementation\n",
    "* Python Example Below\n",
    "* [C++ Example](LinkedListImplementation.cpp)\n",
    "* [C# Linked List Implementation](LinkedListImplementation/Program.cs)"
   ]
  },
  {
   "cell_type": "code",
   "execution_count": 1,
   "metadata": {},
   "outputs": [
    {
     "name": "stdout",
     "output_type": "stream",
     "text": [
      "1\n",
      "2\n",
      "3\n"
     ]
    }
   ],
   "source": [
    "class ListNode:\n",
    "    def __init__(self, val):\n",
    "        self.val = val\n",
    "        self.next = None\n",
    "    \n",
    "one = ListNode(1)\n",
    "two = ListNode(2)\n",
    "three = ListNode(3)\n",
    "one.next = two\n",
    "two.next = three\n",
    "head = one\n",
    "\n",
    "print(head.val)\n",
    "print(head.next.val)\n",
    "print(head.next.next.val)"
   ]
  },
  {
   "cell_type": "markdown",
   "metadata": {},
   "source": [
    "* Usually you want to keep a reference to the head because it is the only node from where you can reach all the elements in the linked lists\n",
    "\n",
    "### Advantages & Disadvantages compared to arrays\n",
    "* main advantage is being able to add and remove elements in O(1)\n",
    "* caveat is you need a reference to the node to perform the addition/removal\n",
    "* Otherwise it is in O(n) because need to iterate from head until the desired position. However still better then array that requires O(n) to add and remove from arbitrary position\n",
    "* advantage of not having a fixed size. Can resize dynamic arrays but significant overhead if allocated size is exceeded\n",
    "* disadvatange is that linked lists have more overhead than arrays, every element needs to have extra storage for the pointers which isn't good if all youre storing is booleans or characters\n"
   ]
  },
  {
   "cell_type": "markdown",
   "metadata": {},
   "source": [
    "### Mechanics of a Linked List\n",
    "* Assignment: when you assign a pointer to an existing node, the pointer refers to the object in memory\n",
    "* See code below:\n",
    "    * ptr refers to the original head\n",
    "    * head variable has changed to the next value\n",
    "    * variables remain at nodes unless they are directly modified\n",
    "* Chaining .next: is possible and a very useful technique. Everything before the final .next refers to a different element\n",
    "* Traversal: iterating through a linked list can be fone using a simple loop. See example code below (python) and the [implementation for c++](LinkedListImplementation.cpp)"
   ]
  },
  {
   "cell_type": "code",
   "execution_count": 2,
   "metadata": {},
   "outputs": [],
   "source": [
    "def get_sum(head):\n",
    "    ans = 0\n",
    "    while head:\n",
    "        ans += head.val\n",
    "        head = head.next\n",
    "    \n",
    "    return ans"
   ]
  },
  {
   "cell_type": "markdown",
   "metadata": {},
   "source": [
    "### Types of Linked Lists\n",
    "#### **_Singly linked list_**\n",
    "* Only has a pointer to the next node (i.e. can only move forward)\n",
    "* To add an element at position i:\n",
    "    * need pointer to element currently at i-1\n",
    "    * the element currently at i gets changed to i+1 by changing the newNode->next to prevNode->next\n",
    "    * change prevNode->next to newNode\n",
    "* To delete an element at position i:\n",
    "    * set prevNode->next to equal the prevNode->next->next (i.e. next pointer for i-1 must equal value at i+1)\n",
    "* See example python implementation below and [implementation for c++](LinkedListImplementation.cpp)\n",
    "* normally wont have pointer to node at the position where you want to perform these operations. To reach desired position would be O(n) otherwise just O(1)\n",
    "\n",
    "#### **_Doubly linked list_**\n",
    "* each node also contains a pointer to the previous node (usually called prev)\n",
    "* with a doubly linked list, we need to do extra work to update the prev pointers"
   ]
  },
  {
   "cell_type": "code",
   "execution_count": 3,
   "metadata": {},
   "outputs": [],
   "source": [
    "# Let prev_node be the node at position i - 1\n",
    "def add_node(prev_node, node_to_add):\n",
    "    node_to_add.next = prev_node.next\n",
    "    prev_node.next = node_to_add\n",
    "\n",
    "def delete_node(prev_node):\n",
    "    prev_node.next = prev_node.next.next\n"
   ]
  },
  {
   "cell_type": "code",
   "execution_count": 4,
   "metadata": {},
   "outputs": [],
   "source": [
    "# Doubly Linked List Implementation\n",
    "class ListNode:\n",
    "    def __init__(self, val):\n",
    "        self.val = val\n",
    "        self.next = None\n",
    "        self.prev = None\n",
    "\n",
    "# Let node be the node at position i\n",
    "def add_node(node, node_to_add):\n",
    "    prev_node = node.prev\n",
    "    node_to_add.next = node\n",
    "    node_to_add.prev = prev_node\n",
    "    prev_node.next = node_to_add\n",
    "    node.prev = node_to_add\n",
    "\n",
    "# Let node be the node at position i\n",
    "def delete_node(node):\n",
    "    prev_node = node.prev\n",
    "    next_node = node.next\n",
    "    prev_node.next = next_node\n",
    "    next_node.prev = prev_node\n"
   ]
  },
  {
   "cell_type": "markdown",
   "metadata": {},
   "source": [
    "#### **_Linked List with Sentinel Nodes_**\n",
    "* sit at the start and end of linked lists. The sentinel nodes are not part of the list themselves\n",
    "* even when there are no nodes, you still keep a pointer to a head and tail.\n",
    "* the real head is head.next and the real tail is tail.prev\n",
    "* see implementation for python below and [implementation for c++](LinkedListImplementation.cpp)"
   ]
  },
  {
   "cell_type": "code",
   "execution_count": null,
   "metadata": {},
   "outputs": [],
   "source": [
    "class ListNode:\n",
    "    def __init__(self, val):\n",
    "        self.val = val\n",
    "        self.next = None\n",
    "        self.prev = None\n",
    "\n",
    "def add_to_end(node_to_add):\n",
    "    node_to_add.next = tail\n",
    "    node_to_add.prev = tail.prev\n",
    "    tail.prev.next = node_to_add\n",
    "    tail.prev = node_to_add\n",
    "\n",
    "def remove_from_end():\n",
    "    if head.next == tail:\n",
    "        return\n",
    "\n",
    "    node_to_remove = tail.prev\n",
    "    node_to_remove.prev.next = tail\n",
    "    tail.prev = node_to_remove.prev\n",
    "\n",
    "def add_to_start(node_to_add):\n",
    "    node_to_add.prev = head\n",
    "    node_to_add.next = head.next\n",
    "    head.next.prev = node_to_add\n",
    "    head.next = node_to_add\n",
    "\n",
    "def remove_from_start():\n",
    "    if head.next == tail:\n",
    "        return\n",
    "    \n",
    "    node_to_remove = head.next\n",
    "    node_to_remove.next.prev = head\n",
    "    head.next = node_to_remove.next\n",
    "\n",
    "head = ListNode(None)\n",
    "tail = ListNode(None)\n",
    "head.next = tail\n",
    "tail.prev = head"
   ]
  }
 ],
 "metadata": {
  "kernelspec": {
   "display_name": "Python 3.12.8 (base)",
   "language": "python",
   "name": "base"
  },
  "language_info": {
   "codemirror_mode": {
    "name": "ipython",
    "version": 3
   },
   "file_extension": ".py",
   "mimetype": "text/x-python",
   "name": "python",
   "nbconvert_exporter": "python",
   "pygments_lexer": "ipython3",
   "version": "3.11.9"
  }
 },
 "nbformat": 4,
 "nbformat_minor": 2
}
