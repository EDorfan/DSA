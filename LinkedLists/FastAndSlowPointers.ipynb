{
 "cells": [
  {
   "cell_type": "markdown",
   "metadata": {},
   "source": [
    "##**Fast and Slow Pointers**\n",
    "* Idea is to have two pointers that dont move side by side, i.e. move at different \"speeds\", begin from different locations or any other abstract difference\n",
    "\n",
    "**pseudocode**\n",
    "\n",
    "// head is the head node of a linked list\n",
    "    \n",
    "    function fn(head):\n",
    "        slow = head\n",
    "        fast = head\n",
    "\n",
    "// check fast.next becase if it is null, would cause us to try and access a null element\n",
    "\n",
    "        while fast and fast.next:\n",
    "            Do something here\n",
    "            slow = slow.next\n",
    "            fast = fast.next.next\n",
    "    \n",
    "\n"
   ]
  },
  {
   "cell_type": "markdown",
   "metadata": {},
   "source": [
    "#### Example 1\n",
    "* Given the head of a linked list with an odd number of nodes head, return the value of the node in the middle.\n",
    "* For example, given a linked list that represents 1 -> 2 -> 3 -> 4 -> 5, return 3.\n",
    "\n",
    "* Fast pointer can move twice as fast and when we reach the end then we are halfway through\n",
    "* For python implementation see below, for c++ implementation see [Fast and Slow Pointers](FastAndSlowPointers.cpp)\n"
   ]
  },
  {
   "cell_type": "code",
   "execution_count": 13,
   "metadata": {},
   "outputs": [],
   "source": [
    "class ListNode:\n",
    "    def __init__(self, val):\n",
    "        self.val = val\n",
    "        self.next = None\n",
    "\n",
    "def get_middle(head):\n",
    "    slow = head\n",
    "    fast = head\n",
    "    while fast and fast.next:\n",
    "        slow = slow.next\n",
    "        fast = fast.next.next\n",
    "    \n",
    "    return slow.val"
   ]
  },
  {
   "cell_type": "markdown",
   "metadata": {},
   "source": [
    "#### Example 2: Linked List Cycle\n",
    "* Given the head of a linked list, determine if the linked list has a cycle.\n",
    "* There is a cycle in a linked list if there is some node in the list that can be reached again by continuously following the next pointer.\n",
    "* Same solution: fast and slow pointer, if there is a loop the fast pointer will eventually catch up, otherwise will reach the nullptr and will prove there is no cycle\n",
    "* For python implementation see below, for c++ implementation see [Fast and Slow Pointers](FastAndSlowPointers.cpp)"
   ]
  },
  {
   "cell_type": "code",
   "execution_count": 23,
   "metadata": {},
   "outputs": [],
   "source": [
    "def hasCycle(head: ListNode) -> bool:\n",
    "    slow = head\n",
    "    fast = head\n",
    "    while fast and fast.next:\n",
    "        slow = slow.next\n",
    "        fast = fast.next.next\n",
    "        if slow == fast:\n",
    "            return True\n",
    "    return False\n"
   ]
  },
  {
   "cell_type": "markdown",
   "metadata": {},
   "source": [
    "#### Example 3: \n",
    "* Given the head of a linked list and an integer k, return the kth node from the end.\n",
    "* For example, given the linked list that represents 1 -> 2 -> 3 -> 4 -> 5 and k = 2, return the node with value 4, as it is the 2nd node from the end.\n",
    "* Similiar to implementation of first example, just keep fast pointer k elements ahead\n",
    "* For python implementation see below, for c++ implementation see [Fast and Slow Pointers](FastAndSlowPointers.cpp)"
   ]
  },
  {
   "cell_type": "code",
   "execution_count": 26,
   "metadata": {},
   "outputs": [],
   "source": [
    "def findKthFromEnd(head: ListNode, k: int):\n",
    "    slow = head\n",
    "    fast = head\n",
    "    for _ in range(k):\n",
    "        fast = fast.next\n",
    "    \n",
    "    while fast:\n",
    "        slow = slow.next\n",
    "        fast = fast.next\n",
    "    \n",
    "    return slow\n",
    "\n"
   ]
  },
  {
   "cell_type": "markdown",
   "metadata": {},
   "source": [
    "#### **Problem 1: Middle of Linked List**\n",
    "* Given the head of a singly linked list, return the middle node of the linked list.\n",
    "* If there are two middle nodes, return the second middle node.\n",
    "\n",
    "![Example explanation](MiddleOfLL.png)"
   ]
  },
  {
   "cell_type": "code",
   "execution_count": 35,
   "metadata": {},
   "outputs": [],
   "source": [
    "from typing import Optional\n",
    "\n",
    "class Solution:\n",
    "    def middleNode(self, head: Optional[ListNode]) -> Optional[ListNode]:\n",
    "        slow = head\n",
    "        fast = head\n",
    "        \n",
    "        while fast.next:\n",
    "            if fast.next.next != None:\n",
    "                slow = slow.next\n",
    "                fast = fast.next.next\n",
    "            else:\n",
    "                return slow.next\n",
    "        \n",
    "        return slow"
   ]
  },
  {
   "cell_type": "markdown",
   "metadata": {},
   "source": [
    "#### **Problem 2: Remove Duplicates from Sorted List**\n",
    "Given the head of a sorted linked list, delete all duplicates such that each element appears only once. Return the linked list sorted as well.\n"
   ]
  },
  {
   "cell_type": "code",
   "execution_count": 38,
   "metadata": {},
   "outputs": [],
   "source": [
    "class Solution1:\n",
    "    def deleteDuplicates(self, head: Optional[ListNode]) -> Optional[ListNode]:\n",
    "        if not head:\n",
    "            return None\n",
    "        \n",
    "        slow = head\n",
    "        fast = head.next\n",
    "        \n",
    "        while fast:\n",
    "            if slow.val == fast.val:\n",
    "                slow.next = fast.next           \n",
    "            else:\n",
    "                slow = slow.next\n",
    "            fast = fast.next\n",
    "\n",
    "        return head"
   ]
  },
  {
   "cell_type": "code",
   "execution_count": 40,
   "metadata": {},
   "outputs": [
    {
     "name": "stdout",
     "output_type": "stream",
     "text": [
      "3\n",
      "The kth node from the end is:  4\n",
      "The middle value from Problem 1 is:  3\n",
      "The original linked list from Problem 2 is:  1->1->2->3->3->4->4->5\n",
      "The linked list from Problem 2 is:  1->2->3->4->5\n"
     ]
    }
   ],
   "source": [
    "def main():\n",
    "    head = ListNode(1)\n",
    "    head.next = ListNode(2)\n",
    "    head.next.next = ListNode(3)\n",
    "    head.next.next.next = ListNode(4)\n",
    "    head.next.next.next.next = ListNode(5)\n",
    "    print(get_middle(head))\n",
    "\n",
    "    num = findKthFromEnd(head, 2).val\n",
    "    print(\"The kth node from the end is: \", num)\n",
    "\n",
    "    middle = Solution().middleNode(head)\n",
    "    print(\"The middle value from Problem 1 is: \", middle.val)\n",
    "\n",
    "    head1 = ListNode(1)\n",
    "    head1.next = ListNode(1)\n",
    "    head1.next.next = ListNode(2)\n",
    "    head1.next.next.next = ListNode(3)\n",
    "    head1.next.next.next.next = ListNode(3)\n",
    "    head1.next.next.next.next.next = ListNode(4)\n",
    "    head1.next.next.next.next.next.next = ListNode(4)\n",
    "    head1.next.next.next.next.next.next.next = ListNode(5)\n",
    "    \n",
    "    # Print original list\n",
    "    curr = head1\n",
    "    values = []\n",
    "    while curr:\n",
    "        values.append(str(curr.val))\n",
    "        curr = curr.next\n",
    "    print(\"The original linked list from Problem 2 is: \", \"->\".join(values))\n",
    "    \n",
    "    head = Solution1().deleteDuplicates(head1)\n",
    "    \n",
    "    # Print modified list \n",
    "    curr = head1\n",
    "    values = []\n",
    "    while curr:\n",
    "        values.append(str(curr.val))\n",
    "        curr = curr.next\n",
    "    print(\"The linked list from Problem 2 is: \", \"->\".join(values))\n",
    "\n",
    "if __name__ == \"__main__\":\n",
    "    main()\n"
   ]
  }
 ],
 "metadata": {
  "kernelspec": {
   "display_name": "Python 3.12.8 (base)",
   "language": "python",
   "name": "base"
  },
  "language_info": {
   "codemirror_mode": {
    "name": "ipython",
    "version": 3
   },
   "file_extension": ".py",
   "mimetype": "text/x-python",
   "name": "python",
   "nbconvert_exporter": "python",
   "pygments_lexer": "ipython3",
   "version": "3.11.9"
  }
 },
 "nbformat": 4,
 "nbformat_minor": 2
}
